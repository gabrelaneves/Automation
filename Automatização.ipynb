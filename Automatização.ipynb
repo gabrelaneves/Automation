{
 "cells": [
  {
   "cell_type": "code",
   "execution_count": 2,
   "metadata": {},
   "outputs": [
    {
     "name": "stdout",
     "output_type": "stream",
     "text": [
      "Processing c:\\users\\gabriela neves\\appdata\\local\\pip\\cache\\wheels\\4d\\0d\\6a\\4258cb741835ea9ce7897652ae88272d3baf5cb1944c1984aa\\pyautogui-0.9.52-py3-none-any.whl\n",
      "Processing c:\\users\\gabriela neves\\appdata\\local\\pip\\cache\\wheels\\d1\\72\\fb\\35f403de66285df8ecca7049bcc61bfb57aba0f76d1f08f7eb\\mouseinfo-0.1.3-py3-none-any.whl\n",
      "Processing c:\\users\\gabriela neves\\appdata\\local\\pip\\cache\\wheels\\91\\28\\0d\\f4eb606d38276836237d6dc2abf094241e6db5682a126e0389\\pymsgbox-1.0.9-py3-none-any.whl\n",
      "Processing c:\\users\\gabriela neves\\appdata\\local\\pip\\cache\\wheels\\e7\\50\\20\\790fbd95739abfdf0348bef99d5cc0c7c2930a19a91f602ddc\\pytweening-1.0.3-py3-none-any.whl\n",
      "Processing c:\\users\\gabriela neves\\appdata\\local\\pip\\cache\\wheels\\91\\e3\\04\\184bda98ec7f7d5f0ba1f372bcf7b3ba86325151ae1dd690fe\\pygetwindow-0.0.9-py3-none-any.whl\n",
      "Processing c:\\users\\gabriela neves\\appdata\\local\\pip\\cache\\wheels\\f7\\91\\eb\\c0fa176c095c77460a579ef339f24a377474b041e5543d1a00\\pyscreeze-0.1.27-py3-none-any.whl\n",
      "Processing c:\\users\\gabriela neves\\appdata\\local\\pip\\cache\\wheels\\7f\\1a\\65\\84ff8c386bec21fca6d220ea1f5498a0367883a78dd5ba6122\\pyperclip-1.8.2-py3-none-any.whl\n",
      "Processing c:\\users\\gabriela neves\\appdata\\local\\pip\\cache\\wheels\\d1\\e4\\47\\c62f8291b16b6df7e89ac885881ff71f35ca04c6e384251de9\\pyrect-0.1.4-py2.py3-none-any.whl\n",
      "Requirement already satisfied: Pillow>=6.2.1; python_version == \"3.8\" in c:\\users\\gabriela neves\\anaconda3\\lib\\site-packages (from pyscreeze>=0.1.21->pyautogui) (8.0.1)\n",
      "Installing collected packages: pyperclip, mouseinfo, pymsgbox, PyTweening, pyrect, pygetwindow, pyscreeze, pyautogui\n",
      "Successfully installed PyTweening-1.0.3 mouseinfo-0.1.3 pyautogui-0.9.52 pygetwindow-0.0.9 pymsgbox-1.0.9 pyperclip-1.8.2 pyrect-0.1.4 pyscreeze-0.1.27\n"
     ]
    }
   ],
   "source": [
    "!pip3 install pyautogui"
   ]
  },
  {
   "cell_type": "code",
   "execution_count": 18,
   "metadata": {},
   "outputs": [],
   "source": [
    "import time\n",
    "import pyautogui\n",
    "import pyperclip\n",
    "# Anrir windons, chromeer, nova guia, pyperclip, colar na guia de pesquisa, esperar 5 seg, clicar na tabela, apertar 3 botoes, download.\n",
    "\n",
    "#Abrindo Windons\n",
    "\n",
    "pyautogui.press('winleft')\n",
    "pyautogui.write('chrome')\n",
    "pyautogui.press('enter')\n",
    "\n",
    "\n",
    "time.sleep(3)\n",
    "\n",
    "\n",
    "\n",
    "link = \"https://drive.google.com/drive/folders/1wRTFw0sUVBjRr4hW5U9LF7DjLixRyxym\"\n",
    "\n",
    "pyperclip.copy(link)\n",
    "\n",
    "time.sleep(3)\n",
    "\n",
    "pyautogui.hotkey('ctrl', 'v')\n",
    "pyautogui.press('enter')\n",
    "\n",
    "time.sleep(5)\n",
    "\n",
    "#Fazendo Dowloand do arquivo\n",
    "\n",
    "pyautogui.click(x=1344, y=453)\n",
    "time.sleep(3)\n",
    "pyautogui.click(x=1653, y=190)\n",
    "time.sleep(3)\n",
    "pyautogui.click(x=1429, y=705)\n",
    "\n"
   ]
  },
  {
   "cell_type": "code",
   "execution_count": 25,
   "metadata": {
    "scrolled": true
   },
   "outputs": [],
   "source": [
    "import pandas as pd\n",
    "\n",
    "df = pd.read_excel(r'C:/Users/Gabriela Neves/Downloads/Vendas - Dez.xlsx')\n",
    "\n",
    "faturamento = df['Valor Final'].sum()\n",
    "quantidade = df['Quantidade'].sum()"
   ]
  },
  {
   "cell_type": "code",
   "execution_count": 36,
   "metadata": {},
   "outputs": [],
   "source": [
    "#Enviando Email\n",
    "pyautogui.press('winleft')\n",
    "pyautogui.write('chrome')\n",
    "time.sleep(2)\n",
    "\n",
    "pyautogui.press('enter')\n",
    "\n",
    "time.sleep(6)\n",
    "\n",
    "\n",
    "\n",
    "email = 'https://mail.google.com/'\n",
    "\n",
    "pyperclip.copy(email)\n",
    "\n",
    "pyautogui.hotkey('ctrl', 'v')\n",
    "\n",
    "pyautogui.press('enter')\n",
    "\n",
    "\n",
    "time.sleep(8)\n",
    "\n",
    "\n",
    "emails =  ['gnevas70@gmail.com','gabriela.alves.neves70@gmail.com']\n",
    "for cada in emails:\n",
    "    \n",
    "    #apertando botão para escrever novo arquivo\n",
    "    pyautogui.click(x = 114, y = 214)\n",
    "    time.sleep(4)\n",
    "    pyautogui.write(cada)\n",
    "    pyautogui.press('tab')\n",
    "    pyautogui.press('tab')\n",
    "    msg = 'Relatorio de vendas'\n",
    "    pyperclip.copy(msg)\n",
    "    pyautogui.hotkey('ctrl', 'v')\n",
    "    pyautogui.press('tab')\n",
    "    texto = f'''\n",
    "    Prezados, bom dia.\n",
    "    O faturamento de ontem foi de: R$ {faturamento: .2f}\n",
    "    A quantidade de produtos foi: {quantidade: ,}\n",
    "    \n",
    "    Abs\n",
    "    Gabriela Neves\n",
    "    \n",
    "    '''\n",
    "    pyperclip.copy(texto)\n",
    "                    \n",
    "    pyautogui.hotkey('ctrl', 'v')                \n",
    "    \n",
    "    # apertando no botão de enviar \n",
    "    \n",
    "    pyautogui.click(x=1158, y=997)\n",
    "    \n",
    "    time.sleep(3)\n",
    "    "
   ]
  },
  {
   "cell_type": "code",
   "execution_count": 8,
   "metadata": {},
   "outputs": [
    {
     "data": {
      "text/plain": [
       "Point(x=1158, y=997)"
      ]
     },
     "execution_count": 8,
     "metadata": {},
     "output_type": "execute_result"
    }
   ],
   "source": [
    "#Encontrando posições\n",
    "import time\n",
    "import pyautogui\n",
    "import pyperclip\n",
    "time.sleep(5)\n",
    "pyautogui.position()\n",
    " pyautogui.click(x=1158, y=997)"
   ]
  }
 ],
 "metadata": {
  "kernelspec": {
   "display_name": "Python 3",
   "language": "python",
   "name": "python3"
  },
  "language_info": {
   "codemirror_mode": {
    "name": "ipython",
    "version": 3
   },
   "file_extension": ".py",
   "mimetype": "text/x-python",
   "name": "python",
   "nbconvert_exporter": "python",
   "pygments_lexer": "ipython3",
   "version": "3.8.5"
  }
 },
 "nbformat": 4,
 "nbformat_minor": 4
}
